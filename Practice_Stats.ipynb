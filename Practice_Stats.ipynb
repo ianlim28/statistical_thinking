{
 "cells": [
  {
   "cell_type": "markdown",
   "metadata": {
    "colab_type": "text",
    "id": "EUVot303xYO0"
   },
   "source": [
    "## Probability and Sampling Distributions\n",
    "\n",
    "**Bayes' theorem applied**\n",
    "\n",
    "You have two coins in your hand. Out of the two coins, one is a real coin (heads and tails) and the other is a faulty coin with tails on both sides. You are blindfolded and forced to choose a random coin and then toss it in the air. The coin lands with tails facing upwards. Find the probability that this is the faulty coin."
   ]
  },
  {
   "cell_type": "code",
   "execution_count": 1,
   "metadata": {
    "colab": {
     "base_uri": "https://localhost:8080/",
     "height": 85
    },
    "colab_type": "code",
    "id": "Wdfhqgu3xdgi",
    "outputId": "76d9ed4b-131f-4762-e78c-25de16316ecc"
   },
   "outputs": [
    {
     "name": "stdout",
     "output_type": "stream",
     "text": [
      "0.75\n",
      "0.5\n",
      "0.5\n",
      "0.6666666666666666\n"
     ]
    }
   ],
   "source": [
    "# P(tails) \n",
    "print(3/4) #because there are 3 tails and 1 head between the 2 coins\n",
    "\n",
    "# P(faulty)\n",
    "print(1/2) # because there is 1 faulty coin\n",
    "\n",
    "# P(tails and faulty), this is essentially equals to P(tails | faulty) * P(faulty), given that its faulty, the prob of tail is 1\n",
    "print(1/2 * 1)\n",
    "\n",
    "# P(faulty | tails)\n",
    "print((1 / 2) / (3 / 4))"
   ]
  },
  {
   "cell_type": "markdown",
   "metadata": {
    "colab_type": "text",
    "id": "HekMCV31yUpM"
   },
   "source": [
    "### Bayes Bayes Babe...\n",
    "\n",
    "<br>\n",
    "\n",
    "P(A|B) = $\\frac{P(B|A)P(A)}{P(B)}$\n",
    "\n",
    "<br>\n",
    "\n",
    "P(faulty | tails) = $\\frac{P(tails|faulty)P(faulty)}{P(tails|faulty)P(faulty) + P(tail| not faulty)P(not faulty)}$"
   ]
  },
  {
   "cell_type": "markdown",
   "metadata": {
    "colab_type": "text",
    "id": "xtVp3ki-2Tno"
   },
   "source": [
    "### Central Limit Theorem\n",
    "\n",
    "The central limit theorem states that no matter what the shape of the distribution, the sampling distribution of the sample mean will approach the normal distribution as the sample size gets larger\n",
    "\n",
    "insert graph\n",
    "\n",
    "**CLT is different from law of large numbers**\n",
    "\n",
    "### Law of large number\n",
    "As the size of the sample increase, the estimate of the sample mean will more accurately reflect the population mean\n"
   ]
  },
  {
   "cell_type": "code",
   "execution_count": 2,
   "metadata": {
    "colab": {
     "base_uri": "https://localhost:8080/",
     "height": 51
    },
    "colab_type": "code",
    "id": "FtQl57R_2WjI",
    "outputId": "814771cb-5a70-4c7f-cc76-08306cfb1b01"
   },
   "outputs": [
    {
     "name": "stdout",
     "output_type": "stream",
     "text": [
      "4.0\n",
      "3.4987\n"
     ]
    }
   ],
   "source": [
    "from numpy.random import randint\n",
    "\n",
    "small = randint(1,7,10)\n",
    "\n",
    "small_mean = small.mean()\n",
    "print(small_mean)\n",
    "\n",
    "large = randint(1,7,10000)\n",
    "\n",
    "large_mean = large.mean()\n",
    "print(large_mean)"
   ]
  },
  {
   "cell_type": "markdown",
   "metadata": {
    "colab_type": "text",
    "id": "Y069Ymi33CuT"
   },
   "source": [
    "**Simulate CLT**"
   ]
  },
  {
   "cell_type": "code",
   "execution_count": 3,
   "metadata": {
    "colab": {
     "base_uri": "https://localhost:8080/",
     "height": 265
    },
    "colab_type": "code",
    "id": "tDcx0pSd3BsX",
    "outputId": "8ad20ad6-f9ac-4608-eeee-97a1adce2657"
   },
   "outputs": [
    {
     "data": {
      "image/png": "[encoded data removed]",
      "text/plain": [
       "<Figure size 432x288 with 1 Axes>"
      ]
     },
     "metadata": {
      "needs_background": "light"
     },
     "output_type": "display_data"
    }
   ],
   "source": [
    "import matplotlib.pyplot as plt\n",
    "\n",
    "means = [randint(1, 7, 30).mean() for i in range(1000)]\n",
    "\n",
    "# Create and show a histogram of the means\n",
    "plt.hist(means)\n",
    "plt.show()\n",
    "\n",
    "# see, this is the sample mean from 1000 samples and it resembles a normal distribution"
   ]
  },
  {
   "cell_type": "code",
   "execution_count": 4,
   "metadata": {
    "colab": {
     "base_uri": "https://localhost:8080/",
     "height": 265
    },
    "colab_type": "code",
    "id": "w8e28H-n4-JC",
    "outputId": "92c59e1c-dd80-40ec-bb5a-3da18e216d2d"
   },
   "outputs": [
    {
     "data": {
      "image/png": "[encoded data removed]",
      "text/plain": [
       "<Figure size 432x288 with 1 Axes>"
      ]
     },
     "metadata": {
      "needs_background": "light"
     },
     "output_type": "display_data"
    }
   ],
   "source": [
    "# Adapt code for 100 samples of size 30\n",
    "means = [randint(1, 7, 30).mean() for i in range(100)]\n",
    "\n",
    "# Create and show a histogram of the means\n",
    "plt.hist(means)\n",
    "plt.show()\n",
    "\n",
    "# see, this is the sample mean from 100 samples and it still resembles a normal distribution"
   ]
  },
  {
   "cell_type": "markdown",
   "metadata": {
    "colab_type": "text",
    "id": "sqH05Itn5OrV"
   },
   "source": [
    "Bernoulli\n",
    "Binomial\n",
    "Poisson\n",
    "Normal\n",
    "insert graph\n",
    "\n",
    "\n",
    "**PMF**: The PMF is one way to describe the distribution of a discrete random variable"
   ]
  },
  {
   "cell_type": "code",
   "execution_count": 5,
   "metadata": {
    "colab": {
     "base_uri": "https://localhost:8080/",
     "height": 265
    },
    "colab_type": "code",
    "id": "Jce0DEyM6uMj",
    "outputId": "5613737d-1393-4527-db86-4c0dce20b594"
   },
   "outputs": [
    {
     "data": {
      "image/png": "[encoded data removed]",
      "text/plain": [
       "<Figure size 432x288 with 1 Axes>"
      ]
     },
     "metadata": {
      "needs_background": "light"
     },
     "output_type": "display_data"
    }
   ],
   "source": [
    "# Generate BERNOULLI data\n",
    "from scipy.stats import bernoulli\n",
    "data = bernoulli.rvs(p=0.5, size=1000)\n",
    "\n",
    "# Plot distribution\n",
    "plt.hist(data)\n",
    "plt.show()"
   ]
  },
  {
   "cell_type": "code",
   "execution_count": 6,
   "metadata": {
    "colab": {
     "base_uri": "https://localhost:8080/",
     "height": 299
    },
    "colab_type": "code",
    "id": "1R6B15Hh64VC",
    "outputId": "cecdda88-3034-430f-a1f6-16b67da6a4a9"
   },
   "outputs": [
    {
     "data": {
      "image/png": "[encoded data removed]",
      "text/plain": [
       "<Figure size 432x288 with 1 Axes>"
      ]
     },
     "metadata": {
      "needs_background": "light"
     },
     "output_type": "display_data"
    },
    {
     "name": "stdout",
     "output_type": "stream",
     "text": [
      "0.6241903616\n",
      "0.10737418240000005\n"
     ]
    }
   ],
   "source": [
    "# BINOMIAL,is used to model the number of successful outcomes in trials where there is some consistent probability of success.\n",
    "# Generate binomial data\n",
    "from scipy.stats import binom\n",
    "data = binom.rvs(n=10, p=0.8, size=1000)\n",
    "\n",
    "# Plot the distribution\n",
    "plt.hist(data)\n",
    "plt.show()\n",
    "\n",
    "# Assign and print probability of 8 or less successes\n",
    "prob1 = binom.cdf(k=8, n=10, p=0.8)\n",
    "print(prob1)\n",
    "\n",
    "# Assign and print probability of all 10 successes\n",
    "prob2 = binom.pmf(k=10, n=10, p=0.8)\n",
    "print(prob2)"
   ]
  },
  {
   "cell_type": "code",
   "execution_count": 7,
   "metadata": {
    "colab": {
     "base_uri": "https://localhost:8080/",
     "height": 302
    },
    "colab_type": "code",
    "id": "40KnUBb07MuO",
    "outputId": "4597db0d-2a92-453f-9fc8-cee2511b7f78"
   },
   "outputs": [
    {
     "data": {
      "image/png": "[encoded data removed]",
      "text/plain": [
       "<Figure size 432x288 with 1 Axes>"
      ]
     },
     "metadata": {
      "needs_background": "light"
     },
     "output_type": "display_data"
    },
    {
     "name": "stdout",
     "output_type": "stream",
     "text": [
      "0.02275013194817921\n",
      "0.029\n"
     ]
    }
   ],
   "source": [
    "# Generate NORMAL data\n",
    "from scipy.stats import norm\n",
    "data = norm.rvs(size=1000)\n",
    "\n",
    "# Plot distribution\n",
    "plt.hist(data)\n",
    "plt.show()\n",
    "\n",
    "# Compute and print true probability for greater than 2\n",
    "true_prob = 1 - norm.cdf(2)\n",
    "print(true_prob)\n",
    "\n",
    "# Compute and print sample probability for greater than 2\n",
    "sample_prob = sum(obs > 2 for obs in data) / len(data)\n",
    "print(sample_prob)"
   ]
  },
  {
   "cell_type": "markdown",
   "metadata": {
    "colab_type": "text",
    "id": "dSpRHGsmAbTu"
   },
   "source": [
    "### Confidence Intervals\n",
    "\n",
    "A range of values that we are fairly sure, that it includes the true value of an unknown population parameter. If we have a 95% confidence interval, this means that 95 out of 100 times we can expect our interval to hold the true parameter value of the population.\n",
    "\n",
    "**Calculating confidence interval**\n",
    "\n",
    "$\\bar{x} \\pm Z * \\frac{\\sigma}{\\sqrt{N}} $\n"
   ]
  },
  {
   "cell_type": "code",
   "execution_count": 8,
   "metadata": {
    "colab": {
     "base_uri": "https://localhost:8080/",
     "height": 85
    },
    "colab_type": "code",
    "id": "alP22qKRxUpT",
    "outputId": "49fe04de-2293-4a68-92fb-075ce2d7704b"
   },
   "outputs": [
    {
     "name": "stdout",
     "output_type": "stream",
     "text": [
      "Scipy SEM: 0.7071067811865476\n",
      "Manual calculation of SEM: 0.6324555320336759\n",
      "lower threshold: 1.0413142161132631\n",
      "uper threshold: 4.958685783886737\n"
     ]
    }
   ],
   "source": [
    "from scipy.stats import sem, t\n",
    "import numpy as np\n",
    "import math\n",
    "data = [1, 2, 3, 4, 5]\n",
    "confidence = 0.95\n",
    "z_score = 2.77\n",
    "# Compute the standard error and margin of error, SEM default for ddof = 1\n",
    "std_err = sem(data) #standard error of the mean aka std of the sampling mean \n",
    "print('Scipy SEM: '+  str(std_err))\n",
    "\n",
    "# this manual calculation of SEM ddof is 0, hence the results are diff from scipy SEM\n",
    "print('Manual calculation of SEM: ' + str(np.std(data) / np.sqrt(len(data))))\n",
    "\n",
    "margin_error = std_err * z_score\n",
    "\n",
    "# Compute and print the lower threshold\n",
    "sample_mean = 3\n",
    "lower = sample_mean - margin_error\n",
    "print('lower threshold: ' + str(lower))\n",
    "\n",
    "# Compute and print the upper threshold\n",
    "upper = sample_mean + margin_error\n",
    "print('uper threshold: ' + str(upper))"
   ]
  },
  {
   "cell_type": "code",
   "execution_count": 9,
   "metadata": {
    "colab": {
     "base_uri": "https://localhost:8080/",
     "height": 255
    },
    "colab_type": "code",
    "id": "rSyQcZs60m-b",
    "outputId": "6f130aca-2605-4e25-d86b-56c86b7c30f2"
   },
   "outputs": [
    {
     "name": "stdout",
     "output_type": "stream",
     "text": [
      "(0.35844514241179504, 0.721554857588205)\n",
      "(0.42406406993539053, 0.6559359300646095)\n",
      "---------------------\n",
      "Generating confidence interval for each set of binomial outcomes\n",
      "(0.46518968814451866, 0.6948103118554813)\n",
      "(0.26709065248750397, 0.49290934751249604)\n",
      "(0.42406406993539053, 0.6559359300646095)\n",
      "(0.30518968814451874, 0.5348103118554812)\n",
      "(0.3245317440082245, 0.5554682559917755)\n",
      "(0.4037843688532205, 0.6362156311467796)\n",
      "(0.3245317440082245, 0.5554682559917755)\n",
      "(0.3836912846323326, 0.6163087153676674)\n",
      "(0.36378436885322046, 0.5962156311467796)\n",
      "(0.3836912846323326, 0.6163087153676674)\n"
     ]
    }
   ],
   "source": [
    "##### Applying Confidence Interval\n",
    "from statsmodels.stats.proportion import proportion_confint\n",
    "from scipy.stats import binom\n",
    "\n",
    "# 99% confidence interval for 50 trials, where the num of success is 27\n",
    "confidence_int = proportion_confint(27, 50, 0.01)\n",
    "print(confidence_int)\n",
    "\n",
    "# 90% confidence interval for 50 trials, where the num of success is 27\n",
    "confidence_int = proportion_confint(27, 50, 0.1)\n",
    "print(confidence_int)\n",
    "\n",
    "print('---------------------')\n",
    "print('Generating confidence interval for each set of binomial outcomes')\n",
    "# Repeat this process 10 times \n",
    "heads = binom.rvs(50, 0.5, size=10)\n",
    "for val in heads:\n",
    "    confidence_interval = proportion_confint(val, 50, .10)\n",
    "    print(confidence_interval)"
   ]
  },
  {
   "cell_type": "markdown",
   "metadata": {
    "colab_type": "text",
    "id": "TsSmyngfF1AT"
   },
   "source": [
    "## Hypothesis Testing\n",
    "### One tailed z-test\n"
   ]
  },
  {
   "cell_type": "code",
   "execution_count": 32,
   "metadata": {},
   "outputs": [
    {
     "data": {
      "text/html": [
       "<div>\n",
       "<style scoped>\n",
       "    .dataframe tbody tr th:only-of-type {\n",
       "        vertical-align: middle;\n",
       "    }\n",
       "\n",
       "    .dataframe tbody tr th {\n",
       "        vertical-align: top;\n",
       "    }\n",
       "\n",
       "    .dataframe thead th {\n",
       "        text-align: right;\n",
       "    }\n",
       "</style>\n",
       "<table border=\"1\" class=\"dataframe\">\n",
       "  <thead>\n",
       "    <tr style=\"text-align: right;\">\n",
       "      <th></th>\n",
       "      <th>group</th>\n",
       "      <th>converted</th>\n",
       "    </tr>\n",
       "  </thead>\n",
       "  <tbody>\n",
       "    <tr>\n",
       "      <th>0</th>\n",
       "      <td>treatmento</td>\n",
       "      <td>0</td>\n",
       "    </tr>\n",
       "    <tr>\n",
       "      <th>1</th>\n",
       "      <td>treatmento</td>\n",
       "      <td>0</td>\n",
       "    </tr>\n",
       "    <tr>\n",
       "      <th>2</th>\n",
       "      <td>controlare</td>\n",
       "      <td>0</td>\n",
       "    </tr>\n",
       "    <tr>\n",
       "      <th>3</th>\n",
       "      <td>controlare</td>\n",
       "      <td>0</td>\n",
       "    </tr>\n",
       "    <tr>\n",
       "      <th>4</th>\n",
       "      <td>treatmento</td>\n",
       "      <td>1</td>\n",
       "    </tr>\n",
       "  </tbody>\n",
       "</table>\n",
       "</div>"
      ],
      "text/plain": [
       "        group  converted\n",
       "0  treatmento          0\n",
       "1  treatmento          0\n",
       "2  controlare          0\n",
       "3  controlare          0\n",
       "4  treatmento          1"
      ]
     },
     "execution_count": 32,
     "metadata": {},
     "output_type": "execute_result"
    }
   ],
   "source": [
    "import pandas as pd\n",
    "results = pd.read_csv('ab_data.csv')\n",
    "results = results.drop(['user_id','timestamp','landing_page'],axis=1)\n",
    "results.head()"
   ]
  },
  {
   "cell_type": "code",
   "execution_count": 33,
   "metadata": {},
   "outputs": [
    {
     "name": "stdout",
     "output_type": "stream",
     "text": [
      "            converted\n",
      "group                \n",
      "controlare   0.118920\n",
      "treatmento   0.120977\n"
     ]
    }
   ],
   "source": [
    "# Assign and print the conversion rate for each group\n",
    "conv_rates = results.groupby('group').mean()\n",
    "print(conv_rates)\n",
    "\n",
    "# Assign the number of control conversions and trials\n",
    "# swapping \n",
    "num_control = results[results['group'] == 'controlare']['converted'].sum()\n",
    "total_control = len(results[results['group'] == 'controlare'])\n",
    "\n",
    "# Assign the number of conversions and total trials\n",
    "num_treat = results[results['group'] == 'treatmento']['converted'].sum()\n",
    "total_treat = len(results[results['group'] == 'treatmento'])"
   ]
  },
  {
   "cell_type": "code",
   "execution_count": 34,
   "metadata": {},
   "outputs": [
    {
     "name": "stdout",
     "output_type": "stream",
     "text": [
      "0.043\n"
     ]
    }
   ],
   "source": [
    "from statsmodels.stats.proportion import proportions_ztest\n",
    "\n",
    "count = np.array([num_treat, num_control]) \n",
    "nobs = np.array([total_treat, total_control])\n",
    "\n",
    "# Run the z-test and print the result \n",
    "stat, pval = proportions_ztest(count, nobs, alternative=\"larger\")\n",
    "print('{0:0.3f}'.format(pval))"
   ]
  },
  {
   "cell_type": "markdown",
   "metadata": {},
   "source": [
    "### two tailed t-test"
   ]
  },
  {
   "cell_type": "code",
   "execution_count": 38,
   "metadata": {},
   "outputs": [
    {
     "data": {
      "text/html": [
       "<div>\n",
       "<style scoped>\n",
       "    .dataframe tbody tr th:only-of-type {\n",
       "        vertical-align: middle;\n",
       "    }\n",
       "\n",
       "    .dataframe tbody tr th {\n",
       "        vertical-align: top;\n",
       "    }\n",
       "\n",
       "    .dataframe thead th {\n",
       "        text-align: right;\n",
       "    }\n",
       "</style>\n",
       "<table border=\"1\" class=\"dataframe\">\n",
       "  <thead>\n",
       "    <tr style=\"text-align: right;\">\n",
       "      <th></th>\n",
       "      <th>Company</th>\n",
       "      <th>Product</th>\n",
       "      <th>TypeName</th>\n",
       "      <th>Inches</th>\n",
       "      <th>ScreenResolution</th>\n",
       "      <th>Cpu</th>\n",
       "      <th>Ram</th>\n",
       "      <th>Memory</th>\n",
       "      <th>Gpu</th>\n",
       "      <th>OpSys</th>\n",
       "      <th>Weight</th>\n",
       "      <th>Price_euros</th>\n",
       "    </tr>\n",
       "  </thead>\n",
       "  <tbody>\n",
       "    <tr>\n",
       "      <th>0</th>\n",
       "      <td>Apple</td>\n",
       "      <td>MacBook Pro</td>\n",
       "      <td>Ultrabook</td>\n",
       "      <td>13.3</td>\n",
       "      <td>IPS Panel Retina Display 2560x1600</td>\n",
       "      <td>Intel Core i5 2.3GHz</td>\n",
       "      <td>8GB</td>\n",
       "      <td>128GB SSD</td>\n",
       "      <td>Intel Iris Plus Graphics 640</td>\n",
       "      <td>macOS</td>\n",
       "      <td>1.37kg</td>\n",
       "      <td>1339.69</td>\n",
       "    </tr>\n",
       "    <tr>\n",
       "      <th>1</th>\n",
       "      <td>Apple</td>\n",
       "      <td>Macbook Air</td>\n",
       "      <td>Ultrabook</td>\n",
       "      <td>13.3</td>\n",
       "      <td>1440x900</td>\n",
       "      <td>Intel Core i5 1.8GHz</td>\n",
       "      <td>8GB</td>\n",
       "      <td>128GB Flash Storage</td>\n",
       "      <td>Intel HD Graphics 6000</td>\n",
       "      <td>macOS</td>\n",
       "      <td>1.34kg</td>\n",
       "      <td>898.94</td>\n",
       "    </tr>\n",
       "    <tr>\n",
       "      <th>2</th>\n",
       "      <td>HP</td>\n",
       "      <td>250 G6</td>\n",
       "      <td>Notebook</td>\n",
       "      <td>15.6</td>\n",
       "      <td>Full HD 1920x1080</td>\n",
       "      <td>Intel Core i5 7200U 2.5GHz</td>\n",
       "      <td>8GB</td>\n",
       "      <td>256GB SSD</td>\n",
       "      <td>Intel HD Graphics 620</td>\n",
       "      <td>No OS</td>\n",
       "      <td>1.86kg</td>\n",
       "      <td>575.00</td>\n",
       "    </tr>\n",
       "    <tr>\n",
       "      <th>3</th>\n",
       "      <td>Apple</td>\n",
       "      <td>MacBook Pro</td>\n",
       "      <td>Ultrabook</td>\n",
       "      <td>15.4</td>\n",
       "      <td>IPS Panel Retina Display 2880x1800</td>\n",
       "      <td>Intel Core i7 2.7GHz</td>\n",
       "      <td>16GB</td>\n",
       "      <td>512GB SSD</td>\n",
       "      <td>AMD Radeon Pro 455</td>\n",
       "      <td>macOS</td>\n",
       "      <td>1.83kg</td>\n",
       "      <td>2537.45</td>\n",
       "    </tr>\n",
       "    <tr>\n",
       "      <th>4</th>\n",
       "      <td>Apple</td>\n",
       "      <td>MacBook Pro</td>\n",
       "      <td>Ultrabook</td>\n",
       "      <td>13.3</td>\n",
       "      <td>IPS Panel Retina Display 2560x1600</td>\n",
       "      <td>Intel Core i5 3.1GHz</td>\n",
       "      <td>8GB</td>\n",
       "      <td>256GB SSD</td>\n",
       "      <td>Intel Iris Plus Graphics 650</td>\n",
       "      <td>macOS</td>\n",
       "      <td>1.37kg</td>\n",
       "      <td>1803.60</td>\n",
       "    </tr>\n",
       "  </tbody>\n",
       "</table>\n",
       "</div>"
      ],
      "text/plain": [
       "  Company      Product   TypeName  Inches                    ScreenResolution  \\\n",
       "0   Apple  MacBook Pro  Ultrabook    13.3  IPS Panel Retina Display 2560x1600   \n",
       "1   Apple  Macbook Air  Ultrabook    13.3                            1440x900   \n",
       "2      HP       250 G6   Notebook    15.6                   Full HD 1920x1080   \n",
       "3   Apple  MacBook Pro  Ultrabook    15.4  IPS Panel Retina Display 2880x1800   \n",
       "4   Apple  MacBook Pro  Ultrabook    13.3  IPS Panel Retina Display 2560x1600   \n",
       "\n",
       "                          Cpu   Ram               Memory  \\\n",
       "0        Intel Core i5 2.3GHz   8GB            128GB SSD   \n",
       "1        Intel Core i5 1.8GHz   8GB  128GB Flash Storage   \n",
       "2  Intel Core i5 7200U 2.5GHz   8GB            256GB SSD   \n",
       "3        Intel Core i7 2.7GHz  16GB            512GB SSD   \n",
       "4        Intel Core i5 3.1GHz   8GB            256GB SSD   \n",
       "\n",
       "                            Gpu  OpSys  Weight  Price_euros  \n",
       "0  Intel Iris Plus Graphics 640  macOS  1.37kg      1339.69  \n",
       "1        Intel HD Graphics 6000  macOS  1.34kg       898.94  \n",
       "2         Intel HD Graphics 620  No OS  1.86kg       575.00  \n",
       "3            AMD Radeon Pro 455  macOS  1.83kg      2537.45  \n",
       "4  Intel Iris Plus Graphics 650  macOS  1.37kg      1803.60  "
      ]
     },
     "execution_count": 38,
     "metadata": {},
     "output_type": "execute_result"
    }
   ],
   "source": [
    "laptops = pd.read_csv('laptops.csv', encoding='latin-1')\n",
    "laptops.head()"
   ]
  },
  {
   "cell_type": "code",
   "execution_count": 39,
   "metadata": {},
   "outputs": [
    {
     "name": "stdout",
     "output_type": "stream",
     "text": [
      "              Inches  Price_euros\n",
      "Company                          \n",
      "Acer       15.063107   626.775825\n",
      "Apple      13.247619  1564.198571\n",
      "Asus       15.450000  1104.169367\n",
      "Chuwi      14.500000   314.296667\n",
      "Dell       15.136027  1186.068990\n",
      "Fujitsu    15.600000   729.000000\n",
      "Google     12.300000  1677.666667\n",
      "HP         14.943066  1067.774854\n",
      "Huawei     13.000000  1424.000000\n",
      "LG         15.066667  2099.000000\n",
      "Lenovo     14.872727  1086.384444\n",
      "MSI        16.442593  1728.908148\n",
      "Mediacom   13.457143   295.000000\n",
      "Microsoft  13.500000  1612.308333\n",
      "Razer      14.514286  3346.142857\n",
      "Samsung    13.822222  1413.444444\n",
      "Toshiba    14.354167  1267.812500\n",
      "Vero       13.825000   217.425000\n",
      "Xiaomi     14.450000  1133.462500\n"
     ]
    }
   ],
   "source": [
    "# Display the mean price for each group\n",
    "prices = laptops.groupby('Company').mean()\n",
    "print(prices)"
   ]
  },
  {
   "cell_type": "code",
   "execution_count": 46,
   "metadata": {},
   "outputs": [
    {
     "name": "stdout",
     "output_type": "stream",
     "text": [
      "            Inches  Price_euros\n",
      "Company                        \n",
      "Asus     15.450000  1104.169367\n",
      "Toshiba  14.354167  1267.812500\n"
     ]
    }
   ],
   "source": [
    "laptops = laptops[laptops.Company.isin(['Asus','Toshiba'])]\n",
    "prices = laptops.groupby('Company').mean()\n",
    "print(prices)"
   ]
  },
  {
   "cell_type": "code",
   "execution_count": 49,
   "metadata": {},
   "outputs": [
    {
     "name": "stdout",
     "output_type": "stream",
     "text": [
      "0.133\n"
     ]
    }
   ],
   "source": [
    "asus = laptops[laptops['Company'] == 'Asus']['Price_euros']\n",
    "toshiba = laptops[laptops['Company'] == 'Toshiba']['Price_euros']\n",
    "\n",
    "from scipy.stats import ttest_ind\n",
    "tstat, pval = ttest_ind(asus, toshiba)\n",
    "print('{0:0.3f}'.format(pval))\n",
    "\n",
    "# cant reject the null hypothesis"
   ]
  },
  {
   "cell_type": "markdown",
   "metadata": {},
   "source": [
    "### Sample size and power\n",
    "efore you begin the experiment, you must decide how many samples you'll need per variant using 5% significance and 95% power"
   ]
  },
  {
   "cell_type": "code",
   "execution_count": 53,
   "metadata": {},
   "outputs": [
    {
     "name": "stdout",
     "output_type": "stream",
     "text": [
      "Std Effect is -0.11990233319498567\n",
      "Sample size you need is 1807.7621477153257\n"
     ]
    }
   ],
   "source": [
    "# Standardize the effect size\n",
    "from statsmodels.stats.proportion import proportion_effectsize\n",
    "std_effect = proportion_effectsize(0.2,0.25)\n",
    "print('Std Effect is ' + str(std_effect))\n",
    "\n",
    "from statsmodels.stats.power import  zt_ind_solve_power\n",
    "sample_size = zt_ind_solve_power(effect_size=std_effect, nobs1=None, alpha=0.05, power=0.95)\n",
    "print('Sample size you need is ' + str(sample_size))"
   ]
  },
  {
   "cell_type": "code",
   "execution_count": 54,
   "metadata": {},
   "outputs": [
    {
     "name": "stdout",
     "output_type": "stream",
     "text": [
      "1091.8961587171943\n"
     ]
    }
   ],
   "source": [
    "# now try a power of 0.8\n",
    "sample_size = zt_ind_solve_power(effect_size=std_effect, nobs1=None, alpha=.05, power=0.8)\n",
    "print(sample_size)\n",
    "\n",
    "# the lower the power, the lower the number of required samples"
   ]
  },
  {
   "cell_type": "markdown",
   "metadata": {},
   "source": [
    "### Visualizing the relationship"
   ]
  },
  {
   "cell_type": "code",
   "execution_count": 55,
   "metadata": {},
   "outputs": [
    {
     "data": {
      "image/png": "[encoded data removed]",
      "text/plain": [
       "<Figure size 432x288 with 1 Axes>"
      ]
     },
     "metadata": {
      "needs_background": "light"
     },
     "output_type": "display_data"
    }
   ],
   "source": [
    "sample_sizes = np.array(range(5, 100))\n",
    "effect_sizes = np.array([0.2, 0.5, 0.8])\n",
    "\n",
    "# Create results object for t-test analysis\n",
    "from statsmodels.stats.power import TTestIndPower\n",
    "results = TTestIndPower()\n",
    "\n",
    "# Plot the power analysis\n",
    "results.plot_power(dep_var='nobs', nobs=sample_sizes, effect_size=effect_sizes)\n",
    "plt.show()"
   ]
  }
 ],
 "metadata": {
  "colab": {
   "name": "Practice Stats.ipynb",
   "provenance": []
  },
  "kernelspec": {
   "display_name": "Python 3",
   "language": "python",
   "name": "python3"
  },
  "language_info": {
   "codemirror_mode": {
    "name": "ipython",
    "version": 3
   },
   "file_extension": ".py",
   "mimetype": "text/x-python",
   "name": "python",
   "nbconvert_exporter": "python",
   "pygments_lexer": "ipython3",
   "version": "3.7.6"
  }
 },
 "nbformat": 4,
 "nbformat_minor": 1
}
