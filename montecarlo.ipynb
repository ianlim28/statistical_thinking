{
  "nbformat": 4,
  "nbformat_minor": 0,
  "metadata": {
    "colab": {
      "name": "montecarlo.ipynb",
      "provenance": []
    },
    "kernelspec": {
      "name": "python3",
      "display_name": "Python 3"
    }
  },
  "cells": [
    {
      "cell_type": "markdown",
      "metadata": {
        "id": "j6n99MnTUuvK",
        "colab_type": "text"
      },
      "source": [
        "Monte Carlo simulations can be used to solve any probabilistic problem. Using the law of large numbers, we can approximate the results through empirical data we create. For every task, we create a PERT distribution using the given a (pessimistic), b (most likely) and c (optimistic) values and draw a value from that distribution. What we get is a simulated estimation for each task. When we add these estimations together we get the simulated estimation of the whole project.\n",
        "\n",
        "\n",
        "PERT distribution is a transformed four parameter beta distribution. to use the PERT distribution we need to convert a, b and c to α and β\n",
        "\n",
        "$\\alpha$ = $\\frac{4b+c-5a}{c-a}$\n",
        "\n",
        "$\\beta$ = $\\frac{45c-a-4b}{c-a}$\n",
        "\n",
        "[source](https://towardsdatascience.com/estimating-tasks-with-statistics-and-simulations-using-python-ddd1df3c7ce1)"
      ]
    },
    {
      "cell_type": "code",
      "metadata": {
        "id": "hpoGV_XqUQKi",
        "colab_type": "code",
        "colab": {
          "base_uri": "https://localhost:8080/",
          "height": 517
        },
        "outputId": "e321a9da-72b7-4092-c0f4-a1f316014aeb"
      },
      "source": [
        "%%time\n",
        "import numpy as np\n",
        "import pandas as pd\n",
        "import math  \n",
        "import matplotlib.pyplot as plt\n",
        "from scipy.interpolate import interp1d\n",
        "from scipy import stats\n",
        "\n",
        "no_of_experiments = 10000000\n",
        "num_bins = 100\n",
        "# 4 is optimistic, 7 is likely and 12 is pessimistic\n",
        "tasks = {\n",
        "    \"Task 1\": [4,7, 12],\n",
        "}\n",
        "\n",
        "data = pd.DataFrame(tasks, index=[\"optimistic\", \"likely\", \n",
        "                                  \"pessimistic\"])\n",
        "points = [0] * no_of_experiments\n",
        "\n",
        "for column in data:\n",
        "    a, b, c = data[column][0], data[column][1], data[column][2]\n",
        "    alpha = ((4*b) + c - (5*a))/(c - a)\n",
        "    beta = ((5*c) - a - (4*b))/(c - a)\n",
        "    r = np.random.beta(alpha, beta, no_of_experiments)\n",
        "    p = (r*(c-a)) + a\n",
        "    points += p\n",
        "\n",
        "plt.figure(figsize=(12,8))\n",
        "n, bins, patches = plt.hist(points, num_bins, \n",
        "                            range = (0, np.max(points)),\n",
        "                            color = \"skyblue\", lw=1, \n",
        "                            edgecolor=\"steelblue\", \n",
        "                            weights=[1/no_of_experiments]*\n",
        "                            no_of_experiments)\n",
        "plt.show()"
      ],
      "execution_count": 1,
      "outputs": [
        {
          "output_type": "display_data",
          "data": {
            "image/png": "[encoded data removed]",
            "text/plain": [
              "<Figure size 864x576 with 1 Axes>"
            ]
          },
          "metadata": {
            "tags": [],
            "needs_background": "light"
          }
        },
        {
          "output_type": "stream",
          "text": [
            "CPU times: user 3.58 s, sys: 245 ms, total: 3.83 s\n",
            "Wall time: 3.85 s\n"
          ],
          "name": "stdout"
        }
      ]
    },
    {
      "cell_type": "markdown",
      "metadata": {
        "id": "EOAtqb3iVNzg",
        "colab_type": "text"
      },
      "source": [
        "*What does it all mean??*"
      ]
    },
    {
      "cell_type": "code",
      "metadata": {
        "id": "KicAh96YVM-0",
        "colab_type": "code",
        "colab": {
          "base_uri": "https://localhost:8080/",
          "height": 357
        },
        "outputId": "e2c5f223-c33a-4df2-e9da-2b4a7596aac2"
      },
      "source": [
        "_, minmax, mean, var, skewness, kurtosis = stats.describe(points)\n",
        "sd = math.sqrt(var)\n",
        "\n",
        "print(\"Tasks\")\n",
        "print(\"-----\")\n",
        "data[\"Total\"] = data.sum(axis=1).values\n",
        "print(data.T)\n",
        "print()\n",
        "\n",
        "print(\"Statistics\")\n",
        "print(\"----------\")\n",
        "print(\"minimum:\", \"%.1f\" % minmax[0], \"maximum:\", \n",
        "      \"%.1f\" % minmax[1])\n",
        "print(\"mean:\", \"%.1f\" %  mean)\n",
        "print(\"standard deviation:\", \"%.1f\" % sd)\n",
        "print(\"skewness:\", \"%.2f\" % skewness)\n",
        "print(\"kurtosis:\", \"%.2f\" % kurtosis)\n",
        "print()\n",
        "\n",
        "# prints out the probability\n",
        "def print_probability(bins, mean, sd, experiments, fraction):\n",
        "    upper = len(np.where(bins <= mean + sd)[0])\n",
        "    lower = len(np.where(bins <= mean - sd)[0])\n",
        "    prob = (np.sum(n[:upper])-np.sum(n[:lower]))*100\n",
        "    print(\"* between\", \"%.1f\" % (mean-sd/2), \"and\", \n",
        "          \"%.1f\" % (mean+sd/2), \":\", \"%.4f%%\" % prob, \n",
        "          \"(within %sσ)\" % fraction)\n",
        "\n",
        "print(\"Probabilities\")\n",
        "print(\"-------------\")\n",
        "print_probability(bins, mean, sd/2, no_of_experiments, \"0.5\")\n",
        "print_probability(bins, mean, sd, no_of_experiments, \"1\")\n",
        "print_probability(bins, mean, 2*sd, no_of_experiments, \"2\")\n",
        "print_probability(bins, mean, 3*sd, no_of_experiments, \"3\")"
      ],
      "execution_count": 7,
      "outputs": [
        {
          "output_type": "stream",
          "text": [
            "Tasks\n",
            "-----\n",
            "        optimistic  likely  pessimistic\n",
            "Task 1           4       7           12\n",
            "Total           24      42           72\n",
            "\n",
            "Statistics\n",
            "----------\n",
            "minimum: 4.0 maximum: 12.0\n",
            "mean: 7.3\n",
            "standard deviation: 1.5\n",
            "skewness: 0.22\n",
            "kurtosis: -0.60\n",
            "\n",
            "Probabilities\n",
            "-------------\n",
            "* between 7.0 and 7.7 : 33.1171% (within 0.5σ)\n",
            "* between 6.6 and 8.1 : 64.6645% (within 1σ)\n",
            "* between 5.8 and 8.8 : 97.2377% (within 2σ)\n",
            "* between 5.1 and 9.6 : 99.9993% (within 3σ)\n"
          ],
          "name": "stdout"
        }
      ]
    },
    {
      "cell_type": "markdown",
      "metadata": {
        "id": "YYaM7C-yV2F0",
        "colab_type": "text"
      },
      "source": [
        "The *skewness* is 0.22, which means the estimations tend to lean towards being more optimistic. If it’s a negative number it means it tends towards being more pessimistic. Skewness of a distribution that is symmetrical is 0.\n",
        "\n",
        "The kurtosis is -0.6 indicates that the peak is a bit flat and more spread out. Generally speaking, the lower the number (the kurtosis of a normal distribution is 0) the flatter the curve is and the higher the number the more peaky it is. A flatter curve means the the optimistic and pessimistic values are further away from each other, and the the peaky curve means the optimistic and pessimistic values are closer to each other.\n",
        "\n",
        "There is a 99.9994% chance that the task is somewhere between 5.1 and 9.6. Now compare that with the optimistic value of 4 and the pessimistic value of 12. It seems wrong that if you think the task is optimistically a 4 and pessimistically a 12 to then be told off by statistics that either values have a probability of only 0.0006%!"
      ]
    },
    {
      "cell_type": "code",
      "metadata": {
        "id": "moLFuzFGW-i8",
        "colab_type": "code",
        "colab": {
          "base_uri": "https://localhost:8080/",
          "height": 483
        },
        "outputId": "ff1571d3-07ca-488d-859d-3c738a7ae778"
      },
      "source": [
        "# lets try a diff pessimistic value\n",
        "tasks = {\n",
        "    \"Task 1\": [4,7, 24],\n",
        "}\n",
        "\n",
        "data = pd.DataFrame(tasks, index=[\"optimistic\", \"likely\", \n",
        "                                  \"pessimistic\"])\n",
        "points = [0] * no_of_experiments\n",
        "\n",
        "for column in data:\n",
        "    a, b, c = data[column][0], data[column][1], data[column][2]\n",
        "    alpha = ((4*b) + c - (5*a))/(c - a)\n",
        "    beta = ((5*c) - a - (4*b))/(c - a)\n",
        "    r = np.random.beta(alpha, beta, no_of_experiments)\n",
        "    p = (r*(c-a)) + a\n",
        "    points += p\n",
        "\n",
        "plt.figure(figsize=(12,8))\n",
        "n, bins, patches = plt.hist(points, num_bins, \n",
        "                            range = (0, np.max(points)),\n",
        "                            color = \"skyblue\", lw=1, \n",
        "                            edgecolor=\"steelblue\", \n",
        "                            weights=[1/no_of_experiments]*\n",
        "                            no_of_experiments)\n",
        "plt.show()"
      ],
      "execution_count": 8,
      "outputs": [
        {
          "output_type": "display_data",
          "data": {
            "image/png": "[encoded data removed]",
            "text/plain": [
              "<Figure size 864x576 with 1 Axes>"
            ]
          },
          "metadata": {
            "tags": [],
            "needs_background": "light"
          }
        }
      ]
    },
    {
      "cell_type": "code",
      "metadata": {
        "id": "xP7jvHQtXLDE",
        "colab_type": "code",
        "colab": {
          "base_uri": "https://localhost:8080/",
          "height": 357
        },
        "outputId": "b6fbb15e-ea8d-4114-9915-c7a8d3b91178"
      },
      "source": [
        "_, minmax, mean, var, skewness, kurtosis = stats.describe(points)\n",
        "sd = math.sqrt(var)\n",
        "\n",
        "print(\"Tasks\")\n",
        "print(\"-----\")\n",
        "data[\"Total\"] = data.sum(axis=1).values\n",
        "print(data.T)\n",
        "print()\n",
        "\n",
        "print(\"Statistics\")\n",
        "print(\"----------\")\n",
        "print(\"minimum:\", \"%.1f\" % minmax[0], \"maximum:\", \n",
        "      \"%.1f\" % minmax[1])\n",
        "print(\"mean:\", \"%.1f\" %  mean)\n",
        "print(\"standard deviation:\", \"%.1f\" % sd)\n",
        "print(\"skewness:\", \"%.2f\" % skewness)\n",
        "print(\"kurtosis:\", \"%.2f\" % kurtosis)\n",
        "print()\n",
        "\n",
        "print(\"Probabilities\")\n",
        "print(\"-------------\")\n",
        "print_probability(bins, mean, sd/2, no_of_experiments, \"0.5\")\n",
        "print_probability(bins, mean, sd, no_of_experiments, \"1\")\n",
        "print_probability(bins, mean, 2*sd, no_of_experiments, \"2\")\n",
        "print_probability(bins, mean, 3*sd, no_of_experiments, \"3\")"
      ],
      "execution_count": 9,
      "outputs": [
        {
          "output_type": "stream",
          "text": [
            "Tasks\n",
            "-----\n",
            "        optimistic  likely  pessimistic\n",
            "Task 1           4       7           24\n",
            "Total            4       7           24\n",
            "\n",
            "Statistics\n",
            "----------\n",
            "minimum: 4.0 maximum: 23.7\n",
            "mean: 9.3\n",
            "standard deviation: 3.3\n",
            "skewness: 0.70\n",
            "kurtosis: -0.01\n",
            "\n",
            "Probabilities\n",
            "-------------\n",
            "* between 8.5 and 10.2 : 33.7094% (within 0.5σ)\n",
            "* between 7.7 and 11.0 : 65.0417% (within 1σ)\n",
            "* between 6.0 and 12.7 : 96.0501% (within 2σ)\n",
            "* between 4.3 and 14.3 : 99.6024% (within 3σ)\n"
          ],
          "name": "stdout"
        }
      ]
    },
    {
      "cell_type": "markdown",
      "metadata": {
        "id": "Mko0bgHzYvGe",
        "colab_type": "text"
      },
      "source": [
        "### Estimating multiple tasks\n",
        "What we did before is just warming up. What we really want is to estimate multiple tasks. While we can more or less calculate the values for a single task due to the PERT distribution, it’s going to be pretty hairy to do so if you have 100 tasks for example.\n"
      ]
    },
    {
      "cell_type": "code",
      "metadata": {
        "id": "xPhf7vUOY4eA",
        "colab_type": "code",
        "colab": {
          "base_uri": "https://localhost:8080/",
          "height": 483
        },
        "outputId": "1d872016-f4bb-4c02-fb99-4abe44523c51"
      },
      "source": [
        "tasks = {\n",
        "    \"Task 1\": [4,7, 12],\n",
        "    \"Task 2\": [2, 3, 9],\n",
        "    \"Task 3\": [3, 5, 16],\n",
        "    \"Task 4\": [6, 7, 23],\n",
        "    \"Task 5\": [10, 12, 28],\n",
        "}\n",
        "\n",
        "data = pd.DataFrame(tasks, index=[\"optimistic\", \"likely\", \n",
        "                                  \"pessimistic\"])\n",
        "points = [0] * no_of_experiments\n",
        "\n",
        "for column in data:\n",
        "    a, b, c = data[column][0], data[column][1], data[column][2]\n",
        "    alpha = ((4*b) + c - (5*a))/(c - a)\n",
        "    beta = ((5*c) - a - (4*b))/(c - a)\n",
        "    r = np.random.beta(alpha, beta, no_of_experiments)\n",
        "    p = (r*(c-a)) + a\n",
        "    points += p\n",
        "\n",
        "plt.figure(figsize=(12,8))\n",
        "n, bins, patches = plt.hist(points, num_bins, \n",
        "                            range = (0, np.max(points)),\n",
        "                            color = \"skyblue\", lw=1, \n",
        "                            edgecolor=\"steelblue\", \n",
        "                            weights=[1/no_of_experiments]*\n",
        "                            no_of_experiments)\n",
        "plt.show()"
      ],
      "execution_count": 10,
      "outputs": [
        {
          "output_type": "display_data",
          "data": {
            "image/png": "[encoded data removed]",
            "text/plain": [
              "<Figure size 864x576 with 1 Axes>"
            ]
          },
          "metadata": {
            "tags": [],
            "needs_background": "light"
          }
        }
      ]
    },
    {
      "cell_type": "code",
      "metadata": {
        "id": "Wo436gqKZTKP",
        "colab_type": "code",
        "colab": {
          "base_uri": "https://localhost:8080/",
          "height": 425
        },
        "outputId": "0236090f-505c-499f-a6df-4c22cfc4109c"
      },
      "source": [
        "# assuming all tasks are independent! not dependent on each other\n",
        "_, minmax, mean, var, skewness, kurtosis = stats.describe(points)\n",
        "sd = math.sqrt(var)\n",
        "\n",
        "print(\"Tasks\")\n",
        "print(\"-----\")\n",
        "data[\"Total\"] = data.sum(axis=1).values\n",
        "print(data.T)\n",
        "print()\n",
        "\n",
        "print(\"Statistics\")\n",
        "print(\"----------\")\n",
        "print(\"minimum:\", \"%.1f\" % minmax[0], \"maximum:\", \n",
        "      \"%.1f\" % minmax[1])\n",
        "print(\"mean:\", \"%.1f\" %  mean)\n",
        "print(\"standard deviation:\", \"%.1f\" % sd)\n",
        "print(\"skewness:\", \"%.2f\" % skewness)\n",
        "print(\"kurtosis:\", \"%.2f\" % kurtosis)\n",
        "print()\n",
        "\n",
        "print(\"Probabilities\")\n",
        "print(\"-------------\")\n",
        "print_probability(bins, mean, sd/2, no_of_experiments, \"0.5\")\n",
        "print_probability(bins, mean, sd, no_of_experiments, \"1\")\n",
        "print_probability(bins, mean, 2*sd, no_of_experiments, \"2\")\n",
        "print_probability(bins, mean, 3*sd, no_of_experiments, \"3\")\n"
      ],
      "execution_count": 11,
      "outputs": [
        {
          "output_type": "stream",
          "text": [
            "Tasks\n",
            "-----\n",
            "        optimistic  likely  pessimistic\n",
            "Task 1           4       7           12\n",
            "Task 2           2       3            9\n",
            "Task 3           3       5           16\n",
            "Task 4           6       7           23\n",
            "Task 5          10      12           28\n",
            "Total           25      34           88\n",
            "\n",
            "Statistics\n",
            "----------\n",
            "minimum: 26.5 maximum: 69.8\n",
            "mean: 41.5\n",
            "standard deviation: 4.9\n",
            "skewness: 0.40\n",
            "kurtosis: 0.06\n",
            "\n",
            "Probabilities\n",
            "-------------\n",
            "* between 40.3 and 42.7 : 32.1378% (within 0.5σ)\n",
            "* between 39.1 and 43.9 : 67.6008% (within 1σ)\n",
            "* between 36.6 and 46.3 : 96.0668% (within 2σ)\n",
            "* between 34.2 and 48.8 : 99.6949% (within 3σ)\n"
          ],
          "name": "stdout"
        }
      ]
    },
    {
      "cell_type": "markdown",
      "metadata": {
        "id": "bixU9w0KZrVO",
        "colab_type": "text"
      },
      "source": [
        "So logically for the project, the task estimation should be a total of the optimistic, likely and pessimistic columns. As a project collectively we see the optimistic total is 25, the most likely total is 34 and the pessimistic total is 88. But how accurate is it? Let’s dig deeper.\n",
        "\n",
        "From the numbers, we see that the mean 41.5 is pretty far away from the most likely value, and the mean is actually the most likely value for this distribution! This means by adding up the most likely values, we end up having a more optimistic view that the numbers show.\n",
        "The minimum is only slightly more than than the optimistic value while the maximum is quite a bit less than the pessimistic value. Again this means by adding up the pessimistic values, we are really being too pessimistic while we are only slightly more optimistic than the numbers show.\n",
        "The skewness of the distribution is quite positive so the over project tends to be more optimistic while the kurtosis is slightly positive (actually it’s pretty close to 0) so the project is quite well balanced in terms of the range between the optimistic and pessimistic values."
      ]
    },
    {
      "cell_type": "code",
      "metadata": {
        "id": "ogBsCFI9Zqhx",
        "colab_type": "code",
        "colab": {}
      },
      "source": [
        ""
      ],
      "execution_count": null,
      "outputs": []
    }
  ]
}